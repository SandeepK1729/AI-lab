{
 "cells": [
  {
   "cell_type": "markdown",
   "id": "2623329c",
   "metadata": {},
   "source": [
    "### 1 : travelling sales person"
   ]
  },
  {
   "cell_type": "code",
   "execution_count": 11,
   "id": "f7d33484",
   "metadata": {},
   "outputs": [],
   "source": [
    "from itertools import permutations\n",
    "\n",
    "def tsp(graph, start_node):\n",
    "    vertices = list(range(len(graph)))\n",
    "    vertices.pop(start_node)\n",
    "    \n",
    "    min_cost = 1000\n",
    "    ways = permutations(vertices)\n",
    "    \n",
    "    for way in ways:\n",
    "        cost = 0\n",
    "        \n",
    "        current_node = start_node\n",
    "        \n",
    "        for next_node in way:\n",
    "            cost += graph[current_node][next_node]\n",
    "            current_node = next_node \n",
    "        \n",
    "        cost += graph[current_node][start_node]\n",
    "        \n",
    "        min_cost = min(cost, min_cost)\n",
    "    return min_cost\n",
    "        "
   ]
  },
  {
   "cell_type": "code",
   "execution_count": 12,
   "id": "b4d0cd44",
   "metadata": {},
   "outputs": [
    {
     "data": {
      "text/plain": [
       "80"
      ]
     },
     "execution_count": 12,
     "metadata": {},
     "output_type": "execute_result"
    }
   ],
   "source": [
    "graph = [\n",
    "    [0, 10, 15, 20],\n",
    "    [10,  0, 35, 25],\n",
    "    [15, 35,  0, 30],\n",
    "    [20, 25, 30, 0]\n",
    "]\n",
    "\n",
    "tsp(graph, 0)"
   ]
  },
  {
   "cell_type": "markdown",
   "id": "6597d4ce",
   "metadata": {},
   "source": [
    "### hill climbing"
   ]
  },
  {
   "cell_type": "code",
   "execution_count": 24,
   "id": "0ccb0708",
   "metadata": {},
   "outputs": [
    {
     "data": {
      "text/plain": [
       "(1, 3, 0, 2)"
      ]
     },
     "execution_count": 24,
     "metadata": {},
     "output_type": "execute_result"
    }
   ],
   "source": [
    "from random import choice\n",
    "from itertools import permutations\n",
    "\n",
    "def randomSolutionAndCost(graph):\n",
    "    vertices = list(range(len(graph)))\n",
    "    route = choice(list(permutations(vertices)))\n",
    "    \n",
    "    routeLength = 0\n",
    "    for i in range(len(solution)):\n",
    "        routeLength += tsp[solution[i - 1]][solution[i]]\n",
    "    return route, routeLength\n",
    "\n",
    "def \n",
    "graph = [\n",
    "    [0, 400, 500, 300],\n",
    "    [400, 0, 300, 500],\n",
    "    [500, 300, 0, 400],\n",
    "    [300, 500, 400, 0]\n",
    "]\n",
    "randomSolution(graph)\n"
   ]
  },
  {
   "cell_type": "code",
   "execution_count": 14,
   "id": "703f6a7f",
   "metadata": {},
   "outputs": [],
   "source": [
    "def simple_hill_climbing(maze):\n",
    "    currentstate = maze.startstate\n",
    "    goalstate = maze.goalstate\n",
    "    path = [currentstate]\n",
    "    while currentstate != goalstate:\n",
    "        found = False\n",
    "        for state in maze.nextstate(currentstate):\n",
    "            if maze.is_better(state, currentstate):\n",
    "                path.append(state)\n",
    "                currentstate = state\n",
    "                found = True\n",
    "                break\n",
    "        if found:\n",
    "            continue\n",
    "        return path, SOLUTION_NOT_FOUND\n",
    "    return path, SOLUTION_FOUND\n"
   ]
  },
  {
   "cell_type": "markdown",
   "id": "b544f79d",
   "metadata": {},
   "source": [
    "### AO star"
   ]
  },
  {
   "cell_type": "code",
   "execution_count": 15,
   "id": "2881f4a7",
   "metadata": {},
   "outputs": [
    {
     "name": "stdout",
     "output_type": "stream",
     "text": [
      "[('A', 1, 'A')]\n"
     ]
    },
    {
     "ename": "UnboundLocalError",
     "evalue": "local variable 'current_node' referenced before assignment",
     "output_type": "error",
     "traceback": [
      "\u001b[1;31m---------------------------------------------------------------------------\u001b[0m",
      "\u001b[1;31mUnboundLocalError\u001b[0m                         Traceback (most recent call last)",
      "Input \u001b[1;32mIn [15]\u001b[0m, in \u001b[0;36m<cell line: 53>\u001b[1;34m()\u001b[0m\n\u001b[0;32m     55\u001b[0m A \u001b[38;5;241m=\u001b[39m {\n\u001b[0;32m     56\u001b[0m     \u001b[38;5;124m'\u001b[39m\u001b[38;5;124mA\u001b[39m\u001b[38;5;124m'\u001b[39m: [(\u001b[38;5;124m'\u001b[39m\u001b[38;5;124mB\u001b[39m\u001b[38;5;124m'\u001b[39m, \u001b[38;5;241m1\u001b[39m), [(\u001b[38;5;124m'\u001b[39m\u001b[38;5;124mC\u001b[39m\u001b[38;5;124m'\u001b[39m, \u001b[38;5;241m1\u001b[39m), (\u001b[38;5;124m'\u001b[39m\u001b[38;5;124mD\u001b[39m\u001b[38;5;124m'\u001b[39m, \u001b[38;5;241m1\u001b[39m)]],\n\u001b[0;32m     57\u001b[0m     \u001b[38;5;124m'\u001b[39m\u001b[38;5;124mB\u001b[39m\u001b[38;5;124m'\u001b[39m: [(\u001b[38;5;124m'\u001b[39m\u001b[38;5;124mE\u001b[39m\u001b[38;5;124m'\u001b[39m, \u001b[38;5;241m1\u001b[39m), (\u001b[38;5;124m'\u001b[39m\u001b[38;5;124mF\u001b[39m\u001b[38;5;124m'\u001b[39m,  \u001b[38;5;241m1\u001b[39m)],\n\u001b[0;32m     58\u001b[0m     \u001b[38;5;124m'\u001b[39m\u001b[38;5;124mC\u001b[39m\u001b[38;5;124m'\u001b[39m: [(\u001b[38;5;124m'\u001b[39m\u001b[38;5;124mG\u001b[39m\u001b[38;5;124m'\u001b[39m, \u001b[38;5;241m1\u001b[39m), [(\u001b[38;5;124m'\u001b[39m\u001b[38;5;124mH\u001b[39m\u001b[38;5;124m'\u001b[39m, \u001b[38;5;241m1\u001b[39m), (\u001b[38;5;124m'\u001b[39m\u001b[38;5;124mI\u001b[39m\u001b[38;5;124m'\u001b[39m, \u001b[38;5;241m1\u001b[39m)]],\n\u001b[0;32m     59\u001b[0m     \u001b[38;5;124m'\u001b[39m\u001b[38;5;124mD\u001b[39m\u001b[38;5;124m'\u001b[39m: [(\u001b[38;5;124m'\u001b[39m\u001b[38;5;124mJ\u001b[39m\u001b[38;5;124m'\u001b[39m, \u001b[38;5;241m1\u001b[39m)],\n\u001b[0;32m     60\u001b[0m }\n\u001b[0;32m     62\u001b[0m graph \u001b[38;5;241m=\u001b[39m Graph(A, H)\n\u001b[1;32m---> 63\u001b[0m cost, path \u001b[38;5;241m=\u001b[39m \u001b[43mgraph\u001b[49m\u001b[38;5;241;43m.\u001b[39;49m\u001b[43mfind_ao_star_path\u001b[49m\u001b[43m(\u001b[49m\u001b[38;5;124;43m'\u001b[39;49m\u001b[38;5;124;43mA\u001b[39;49m\u001b[38;5;124;43m'\u001b[39;49m\u001b[43m)\u001b[49m\n\u001b[0;32m     64\u001b[0m \u001b[38;5;28mprint\u001b[39m(\u001b[38;5;124mf\u001b[39m\u001b[38;5;124m\"\u001b[39m\u001b[38;5;124mcost : \u001b[39m\u001b[38;5;132;01m{\u001b[39;00mcost\u001b[38;5;132;01m}\u001b[39;00m\u001b[38;5;124m\"\u001b[39m)\n\u001b[0;32m     65\u001b[0m \u001b[38;5;28mprint\u001b[39m(\u001b[38;5;124mf\u001b[39m\u001b[38;5;124m\"\u001b[39m\u001b[38;5;124mpath : \u001b[39m\u001b[38;5;132;01m{\u001b[39;00mpath\u001b[38;5;132;01m}\u001b[39;00m\u001b[38;5;124m\"\u001b[39m)\n",
      "Input \u001b[1;32mIn [15]\u001b[0m, in \u001b[0;36mGraph.find_ao_star_path\u001b[1;34m(self, start)\u001b[0m\n\u001b[0;32m     12\u001b[0m \u001b[38;5;28mprint\u001b[39m(open_list)\n\u001b[0;32m     14\u001b[0m current_nodes, current_cost, current_path \u001b[38;5;241m=\u001b[39m open_list\u001b[38;5;241m.\u001b[39mpop(\u001b[38;5;241m0\u001b[39m)\n\u001b[1;32m---> 16\u001b[0m \u001b[38;5;28;01mif\u001b[39;00m \u001b[38;5;28mself\u001b[39m\u001b[38;5;241m.\u001b[39mH[\u001b[43mcurrent_node\u001b[49m] \u001b[38;5;241m==\u001b[39m \u001b[38;5;241m0\u001b[39m:\n\u001b[0;32m     17\u001b[0m     \u001b[38;5;28;01mreturn\u001b[39;00m (current_cost, current_path)\n\u001b[0;32m     19\u001b[0m \u001b[38;5;28;01mif\u001b[39;00m \u001b[38;5;124m'\u001b[39m\u001b[38;5;124mlist\u001b[39m\u001b[38;5;124m'\u001b[39m \u001b[38;5;129;01mnot\u001b[39;00m \u001b[38;5;129;01min\u001b[39;00m \u001b[38;5;28mstr\u001b[39m(\u001b[38;5;28mtype\u001b[39m(current_nodes)):\n",
      "\u001b[1;31mUnboundLocalError\u001b[0m: local variable 'current_node' referenced before assignment"
     ]
    }
   ],
   "source": [
    "class Graph:\n",
    "    \"\"\"Class to find less cost path using A* star Informed Search algorithm\"\"\"\n",
    "\n",
    "    def __init__(self, adjancency_matrix, H):\n",
    "        self.H = H\n",
    "        self.adjancency_matrix = adjancency_matrix\n",
    "\n",
    "    def find_ao_star_path(self, start):\n",
    "        open_list = [(start, self.H[start], start)]\n",
    "    \n",
    "        while len(open_list) > 0:\n",
    "            print(open_list)\n",
    "            \n",
    "            current_nodes, current_cost, current_path = open_list.pop(0)\n",
    "            \n",
    "            if self.H[current_node] == 0:\n",
    "                return (current_cost, current_path)\n",
    "            \n",
    "            if 'list' not in str(type(current_nodes)):\n",
    "                is_same_branch = False\n",
    "                current_nodes = [current_nodes]\n",
    "                \n",
    "            else:\n",
    "                is_same_branch = True \n",
    "            \n",
    "            current_cost -= sum([self.H[current_node] for current_node in current_nodes])\n",
    "            \n",
    "            for current_node in current_nodes:\n",
    "                node, cost, path = [], 0, \"\"\n",
    "                \n",
    "                for and_or_node in self.adjancency_matrix[current_node]:\n",
    "                    if 'list' not in str(type(and_or_node)):\n",
    "                        and_or_node = [and_or_node]\n",
    "\n",
    "                    current_branch_cost = current_cost \n",
    "                    current_branch_path = current_path \n",
    "\n",
    "                    for node, cost in and_or_node:\n",
    "                        current_branch_cost += cost + self.H[node]\n",
    "                        current_branch_path += f\" -> {node}\"\n",
    "\n",
    "                    if not is_same_branch:\n",
    "                        open_list.append((and_or_node, current_branch_cost, current_branch_path))\n",
    "                \n",
    "                if is_same_branch:\n",
    "                    open_list.append((node, cost, path))\n",
    "                \n",
    "            open_list.sort(key=lambda x: x[1])\n",
    "\n",
    "        return \"No path exist\"\n",
    "\n",
    "\n",
    "if __name__ == \"__main__\":\n",
    "    H = {'A': 1, 'B': 4, 'C': 2, 'D': 3, 'E' : 6, 'F' : 8, 'G' : 2, 'H' : 0, 'I' : 0, 'J' : 0}\n",
    "    A = {\n",
    "        'A': [('B', 1), [('C', 1), ('D', 1)]],\n",
    "        'B': [('E', 1), ('F',  1)],\n",
    "        'C': [('G', 1), [('H', 1), ('I', 1)]],\n",
    "        'D': [('J', 1)],\n",
    "    }\n",
    "\n",
    "    graph = Graph(A, H)\n",
    "    cost, path = graph.find_ao_star_path('A')\n",
    "    print(f\"cost : {cost}\")\n",
    "    print(f\"path : {path}\")\n"
   ]
  },
  {
   "cell_type": "code",
   "execution_count": null,
   "id": "8d4304bb",
   "metadata": {},
   "outputs": [],
   "source": []
  }
 ],
 "metadata": {
  "kernelspec": {
   "display_name": "Python 3 (ipykernel)",
   "language": "python",
   "name": "python3"
  },
  "language_info": {
   "codemirror_mode": {
    "name": "ipython",
    "version": 3
   },
   "file_extension": ".py",
   "mimetype": "text/x-python",
   "name": "python",
   "nbconvert_exporter": "python",
   "pygments_lexer": "ipython3",
   "version": "3.10.4"
  }
 },
 "nbformat": 4,
 "nbformat_minor": 5
}
