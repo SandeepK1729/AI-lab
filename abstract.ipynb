{
 "cells": [
  {
   "cell_type": "code",
   "execution_count": 10,
   "id": "556e46d4",
   "metadata": {},
   "outputs": [
    {
     "name": "stdout",
     "output_type": "stream",
     "text": [
      "80\n"
     ]
    }
   ],
   "source": [
    "# week - 1 : tsp\n",
    "from itertools import permutations\n",
    "\n",
    "def tsp(graph, s):\n",
    "    vertices = list(range(len(graph)))\n",
    "    vertices.pop(s)\n",
    "    \n",
    "    ways = permutations(vertices)\n",
    "    optimal_cost = 10 ** 9\n",
    "    \n",
    "    for way in ways:\n",
    "        cost = 0\n",
    "        \n",
    "        current_node = s\n",
    "        for next_node in way:\n",
    "            cost += graph[current_node][next_node]\n",
    "            current_node = next_node\n",
    "        \n",
    "        cost += graph[current_node][s]\n",
    "        \n",
    "        optimal_cost = min([optimal_cost, cost])\n",
    "        \n",
    "    return optimal_cost\n",
    "\n",
    "G = [[0, 10, 15, 20],\n",
    "    [10,  0, 35, 25],\n",
    "    [15, 35,  0, 30],\n",
    "    [20, 25, 30, 0]]\n",
    "\n",
    "s = 0\n",
    "print(tsp(G, s))"
   ]
  },
  {
   "cell_type": "code",
   "execution_count": 11,
   "id": "f6016d93",
   "metadata": {},
   "outputs": [
    {
     "name": "stdout",
     "output_type": "stream",
     "text": [
      "Random monkeys [Monkey with 19 bananas, Monkey with 34 bananas, Monkey with 24 bananas, Monkey with 18 bananas, Monkey with 16 bananas]\n",
      "max bananas : Monkey with 34 bananas\n"
     ]
    }
   ],
   "source": [
    "# week - 7 : \n",
    "from random import randint\n",
    "\n",
    "class Monkey():\n",
    "    def __init__(self, bananas):\n",
    "        self.bananas = bananas\n",
    "    def __repr__(self):\n",
    "        return f\"Monkey with {self.bananas} bananas\"\n",
    "    \n",
    "\n",
    "monkeys = [ Monkey(randint(0, 50)) for _ in range(5)]\n",
    "print(\"Random monkeys\", monkeys)\n",
    "\n",
    "print(\"max bananas :\", max(monkeys, key = lambda x : x.bananas))"
   ]
  },
  {
   "cell_type": "code",
   "execution_count": null,
   "id": "8d26f7da",
   "metadata": {},
   "outputs": [],
   "source": []
  }
 ],
 "metadata": {
  "kernelspec": {
   "display_name": "Python 3 (ipykernel)",
   "language": "python",
   "name": "python3"
  },
  "language_info": {
   "codemirror_mode": {
    "name": "ipython",
    "version": 3
   },
   "file_extension": ".py",
   "mimetype": "text/x-python",
   "name": "python",
   "nbconvert_exporter": "python",
   "pygments_lexer": "ipython3",
   "version": "3.10.4"
  }
 },
 "nbformat": 4,
 "nbformat_minor": 5
}
